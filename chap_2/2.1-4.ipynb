{
 "cells": [
  {
   "cell_type": "code",
   "execution_count": 15,
   "id": "99797d23",
   "metadata": {},
   "outputs": [],
   "source": [
    "def linear_search(A,x):\n",
    "    for i in range(len(A)):\n",
    "        if A[i] == x:\n",
    "            return i\n",
    "    return None\n",
    "            "
   ]
  },
  {
   "cell_type": "code",
   "execution_count": 18,
   "id": "467b248b",
   "metadata": {},
   "outputs": [],
   "source": [
    "linear_search([1,444,5,7889,1,45,2,4,5], 3)"
   ]
  },
  {
   "cell_type": "code",
   "execution_count": null,
   "id": "31eba736",
   "metadata": {},
   "outputs": [],
   "source": []
  }
 ],
 "metadata": {
  "kernelspec": {
   "display_name": "Python 3 (ipykernel)",
   "language": "python",
   "name": "python3"
  },
  "language_info": {
   "codemirror_mode": {
    "name": "ipython",
    "version": 3
   },
   "file_extension": ".py",
   "mimetype": "text/x-python",
   "name": "python",
   "nbconvert_exporter": "python",
   "pygments_lexer": "ipython3",
   "version": "3.10.13"
  }
 },
 "nbformat": 4,
 "nbformat_minor": 5
}
