{
 "cells": [
  {
   "cell_type": "code",
   "execution_count": 1,
   "id": "19710b97",
   "metadata": {},
   "outputs": [],
   "source": [
    "def linear_search(A,x):\n",
    "    for i in range(len(A)):\n",
    "        if A[i] == x:\n",
    "            return i\n",
    "    return None\n",
    "            "
   ]
  },
  {
   "cell_type": "markdown",
   "id": "a92efac9",
   "metadata": {},
   "source": [
    "Q - How many elements of the input array need to be checked on the average, assuming that the element being searched for is equally likely to be any element in the array? "
   ]
  },
  {
   "cell_type": "markdown",
   "id": "cbb65343",
   "metadata": {},
   "source": [
    "If the chance of every element being the target is the same in average, you need to search n/2 elements. "
   ]
  },
  {
   "cell_type": "markdown",
   "id": "8eaf037e",
   "metadata": {},
   "source": [
    "Q- How about in the worst case?"
   ]
  },
  {
   "cell_type": "markdown",
   "id": "d10474d4",
   "metadata": {},
   "source": [
    "In the worst case all the n elements need to be searched. "
   ]
  },
  {
   "cell_type": "markdown",
   "id": "7e0170f0",
   "metadata": {},
   "source": [
    "Q- Using $\\theta$-notation, give the average-case and worst-case running times of linear search."
   ]
  },
  {
   "cell_type": "markdown",
   "id": "53570f2a",
   "metadata": {},
   "source": [
    "average case = $ c_1((n/2)+1) $\n",
    "worst case = $ c_1(n+1) $\n",
    "\n",
    "Both average and worst case runnig time of linear search is $\\theta$n"
   ]
  },
  {
   "cell_type": "code",
   "execution_count": null,
   "id": "0dbd8e3d",
   "metadata": {},
   "outputs": [],
   "source": []
  }
 ],
 "metadata": {
  "kernelspec": {
   "display_name": "Python 3 (ipykernel)",
   "language": "python",
   "name": "python3"
  },
  "language_info": {
   "codemirror_mode": {
    "name": "ipython",
    "version": 3
   },
   "file_extension": ".py",
   "mimetype": "text/x-python",
   "name": "python",
   "nbconvert_exporter": "python",
   "pygments_lexer": "ipython3",
   "version": "3.10.13"
  }
 },
 "nbformat": 4,
 "nbformat_minor": 5
}
