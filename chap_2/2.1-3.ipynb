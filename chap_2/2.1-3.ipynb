{
 "cells": [
  {
   "cell_type": "code",
   "execution_count": 4,
   "id": "f676a775",
   "metadata": {},
   "outputs": [],
   "source": [
    "def insertioan_sort(A):\n",
    "    \"\"\"INSERTION-SORT procedure to sort into monotonically decreasing\"\"\"\n",
    "    for i in range(len(A)):\n",
    "        key = A[i]\n",
    "        j = i - 1\n",
    "        while j>-1 and key>A[j]:\n",
    "            A[j + 1] = A[j]\n",
    "            j = j - 1\n",
    "        A[j + 1] = key\n",
    "    return A"
   ]
  },
  {
   "cell_type": "code",
   "execution_count": 5,
   "id": "bf9bda39",
   "metadata": {},
   "outputs": [
    {
     "data": {
      "text/plain": [
       "[888, 252, 77, 56, 42, 5, 4, 4, 1]"
      ]
     },
     "execution_count": 5,
     "metadata": {},
     "output_type": "execute_result"
    }
   ],
   "source": [
    "insertioan_sort([4,5,4,77,56,42,888,252,1])"
   ]
  },
  {
   "cell_type": "code",
   "execution_count": null,
   "id": "4f123e61",
   "metadata": {},
   "outputs": [],
   "source": []
  }
 ],
 "metadata": {
  "kernelspec": {
   "display_name": "Python 3 (ipykernel)",
   "language": "python",
   "name": "python3"
  },
  "language_info": {
   "codemirror_mode": {
    "name": "ipython",
    "version": 3
   },
   "file_extension": ".py",
   "mimetype": "text/x-python",
   "name": "python",
   "nbconvert_exporter": "python",
   "pygments_lexer": "ipython3",
   "version": "3.10.13"
  }
 },
 "nbformat": 4,
 "nbformat_minor": 5
}
