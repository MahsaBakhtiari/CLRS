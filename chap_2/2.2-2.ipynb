{
 "cells": [
  {
   "cell_type": "markdown",
   "id": "1416170e",
   "metadata": {},
   "source": [
    "## Selection Sort"
   ]
  },
  {
   "cell_type": "markdown",
   "id": "3e84b7e5",
   "metadata": {},
   "source": [
    "### Pseudocod "
   ]
  },
  {
   "cell_type": "markdown",
   "id": "43ef0a09",
   "metadata": {},
   "source": [
    "$ minimun-find(A, n) $\n",
    "\n",
    "    min = A_{1}\n",
    "    \n",
    "    min_index = 1\n",
    "\n",
    "    for i = 2 to n:\n",
    "    \n",
    "        if A_i < min:  \n",
    "        \n",
    "            min = A_i\n",
    "            \n",
    "            min_index = i\n"
   ]
  },
  {
   "cell_type": "markdown",
   "id": "aae6cada",
   "metadata": {},
   "source": [
    "$ selection-sort(A, n) $\n",
    "\n",
    "    for i = 1 to n - 1:\n",
    "    \n",
    "        j = minimum-find(A[i:n])\n",
    "        \n",
    "        swap(A[i], A[j])\n"
   ]
  },
  {
   "cell_type": "code",
   "execution_count": 60,
   "id": "d79d433d",
   "metadata": {},
   "outputs": [],
   "source": [
    "def minimum_find(A):\n",
    "    minimum = A[0]\n",
    "    min_index = 0\n",
    "    for i in range(1, len(A)):\n",
    "        if A[i] < minimum:\n",
    "            minimum = A[i]\n",
    "            min_index = i\n",
    "    return min_index"
   ]
  },
  {
   "cell_type": "code",
   "execution_count": 61,
   "id": "86cb0f82",
   "metadata": {},
   "outputs": [],
   "source": [
    "def selection_sort(A):\n",
    "    for i in range(len(A) - 1):\n",
    "        j = minimum_find(A[i:])\n",
    "        temp = A[i]\n",
    "        A[i] = A[j + i]\n",
    "        A[j + i] = temp\n",
    "    return A"
   ]
  },
  {
   "cell_type": "markdown",
   "id": "295a88ec",
   "metadata": {},
   "source": [
    "### Running time of selection sort in theta notation"
   ]
  },
  {
   "cell_type": "markdown",
   "id": "ad3eaf0c",
   "metadata": {},
   "source": [
    "| find-minimum(A, n)           | Cost        | times.        |\n",
    "| :---                         |    :----:   |          ---: |\n",
    "| 1. min = A_{1}               | c_1         | 1             |\n",
    "| 2. min_index = 1             | c_2         | 1             |\n",
    "| 3. for i = 2 to n:           | c_3         | n-1           |\n",
    "| 4. if A_i < min:             | c_4         | n-2           |\n",
    "| 5. min = A_i                 | c_5         | best case = 0, worst case = n-2   |\n",
    "| 6. min_index = i             | c_6         | best case = 0, worst case = n-2   |\n",
    "\n",
    "\n"
   ]
  },
  {
   "cell_type": "markdown",
   "id": "93710ca9",
   "metadata": {},
   "source": [
    "| selection-sort(A, n)         | Cost        | times         |\n",
    "| :---                         |    :----:   |          ---: |\n",
    "| 1. for i = 1 to n - 1:       | c_1         | n             |\n",
    "| 2. j = minimum-find(A[i:n])  | c_2         | n-1(find_minimum)|\n",
    "| 3. swap(A[i], A[j])          | c_3         | n-1   |\n"
   ]
  },
  {
   "cell_type": "markdown",
   "id": "96af240e",
   "metadata": {},
   "source": [
    "Worst case running(without considering the line cost) = $ n + (n-1)(4n-5) + n-1 = 4n^2 - 7n + 4 $"
   ]
  },
  {
   "cell_type": "markdown",
   "id": "8deee7bd",
   "metadata": {},
   "source": [
    "Best case running(without considering the line cost) = $ n + (n-1)(2n-1) + n-1 = 2n^2 - n $"
   ]
  },
  {
   "cell_type": "markdown",
   "id": "bdbfc9de",
   "metadata": {},
   "source": [
    "### worst-case and best-case running time of selection sort in $\\theta$-notation is:   $\\theta$ of $n^2$"
   ]
  },
  {
   "cell_type": "code",
   "execution_count": null,
   "id": "0c051ccd",
   "metadata": {},
   "outputs": [],
   "source": []
  }
 ],
 "metadata": {
  "kernelspec": {
   "display_name": "Python 3 (ipykernel)",
   "language": "python",
   "name": "python3"
  },
  "language_info": {
   "codemirror_mode": {
    "name": "ipython",
    "version": 3
   },
   "file_extension": ".py",
   "mimetype": "text/x-python",
   "name": "python",
   "nbconvert_exporter": "python",
   "pygments_lexer": "ipython3",
   "version": "3.10.13"
  }
 },
 "nbformat": 4,
 "nbformat_minor": 5
}
