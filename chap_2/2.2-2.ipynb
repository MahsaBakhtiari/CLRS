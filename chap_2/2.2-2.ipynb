{
 "cells": [
  {
   "cell_type": "markdown",
   "id": "bbb87654",
   "metadata": {},
   "source": [
    "## Selection Sort"
   ]
  },
  {
   "cell_type": "markdown",
   "id": "00a38118",
   "metadata": {},
   "source": [
    "### Pseudocod "
   ]
  },
  {
   "cell_type": "markdown",
   "id": "cad2b72f",
   "metadata": {},
   "source": [
    "$ minimun-find(A, n) $\n",
    "\n",
    "    min = A_{1}\n",
    "    \n",
    "    min_index = 1\n",
    "\n",
    "    for i = 2 to n:\n",
    "    \n",
    "        if A_i < min:  \n",
    "        \n",
    "            min = A_i\n",
    "            \n",
    "            min_index = i\n",
    "    \n",
    "    return min_index"
   ]
  },
  {
   "cell_type": "markdown",
   "id": "60510583",
   "metadata": {},
   "source": [
    "$ selection-sort(A, n) $\n",
    "\n",
    "    for i = 1 to n - 1:\n",
    "    \n",
    "        j = minimum-find(A[i:n])\n",
    "        \n",
    "        swap(A[i], A[j])\n",
    "        \n",
    "    return A"
   ]
  },
  {
   "cell_type": "code",
   "execution_count": 39,
   "id": "689b3d27",
   "metadata": {},
   "outputs": [],
   "source": [
    "def minimum_find(A):\n",
    "    minimum = A[0]\n",
    "    min_index = 0\n",
    "    for i in range(1, len(A)):\n",
    "        if A[i] < minimum:\n",
    "            minimum = A[i]\n",
    "            min_index = i\n",
    "    return min_index"
   ]
  },
  {
   "cell_type": "code",
   "execution_count": 57,
   "id": "5a9ecfd8",
   "metadata": {},
   "outputs": [],
   "source": [
    "def selection_sort(A):\n",
    "    for i in range(len(A) - 1):\n",
    "        j = minimum_find(A[i:])\n",
    "        temp = A[i]\n",
    "        A[i] = A[j + i]\n",
    "        A[j + i] = temp\n",
    "    return A"
   ]
  },
  {
   "cell_type": "code",
   "execution_count": 58,
   "id": "2a2b2e9d",
   "metadata": {},
   "outputs": [
    {
     "data": {
      "text/plain": [
       "[-66454, 0, 0, 1, 2, 456, 11123, 34555, 454577]"
      ]
     },
     "execution_count": 58,
     "metadata": {},
     "output_type": "execute_result"
    }
   ],
   "source": [
    "selection_sort([1,454577,2,456,0,-66454,34555,11123,0])"
   ]
  },
  {
   "cell_type": "code",
   "execution_count": 46,
   "id": "fa311826",
   "metadata": {},
   "outputs": [
    {
     "data": {
      "text/plain": [
       "5"
      ]
     },
     "execution_count": 46,
     "metadata": {},
     "output_type": "execute_result"
    }
   ],
   "source": [
    "minimum_find([1,454577,2,456,0,-66454,34555,11123,0])"
   ]
  },
  {
   "cell_type": "code",
   "execution_count": null,
   "id": "2acc0e6d",
   "metadata": {},
   "outputs": [],
   "source": []
  }
 ],
 "metadata": {
  "kernelspec": {
   "display_name": "Python 3 (ipykernel)",
   "language": "python",
   "name": "python3"
  },
  "language_info": {
   "codemirror_mode": {
    "name": "ipython",
    "version": 3
   },
   "file_extension": ".py",
   "mimetype": "text/x-python",
   "name": "python",
   "nbconvert_exporter": "python",
   "pygments_lexer": "ipython3",
   "version": "3.10.13"
  }
 },
 "nbformat": 4,
 "nbformat_minor": 5
}
