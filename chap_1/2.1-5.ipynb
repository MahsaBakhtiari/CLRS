{
 "cells": [
  {
   "cell_type": "code",
   "execution_count": 43,
   "id": "6049cba8",
   "metadata": {},
   "outputs": [],
   "source": [
    "def add_binary_integers(A, B):\n",
    "    C = []\n",
    "    over = 0\n",
    "    for i in range(len(A)):\n",
    "        ssum = A[i] + B[i]\n",
    "        C.append((ssum + over)%2)\n",
    "        over = ssum//2\n",
    "    C.append(over)\n",
    "    return C\n",
    "        \n",
    "              "
   ]
  },
  {
   "cell_type": "code",
   "execution_count": 44,
   "id": "9e9a63f2",
   "metadata": {},
   "outputs": [
    {
     "data": {
      "text/plain": [
       "[1, 1, 0, 1]"
      ]
     },
     "execution_count": 44,
     "metadata": {},
     "output_type": "execute_result"
    }
   ],
   "source": [
    "add_binary_integers([0,1,1], [1,0,1])"
   ]
  },
  {
   "cell_type": "code",
   "execution_count": null,
   "id": "e371e3bb",
   "metadata": {},
   "outputs": [],
   "source": []
  }
 ],
 "metadata": {
  "kernelspec": {
   "display_name": "Python 3 (ipykernel)",
   "language": "python",
   "name": "python3"
  },
  "language_info": {
   "codemirror_mode": {
    "name": "ipython",
    "version": 3
   },
   "file_extension": ".py",
   "mimetype": "text/x-python",
   "name": "python",
   "nbconvert_exporter": "python",
   "pygments_lexer": "ipython3",
   "version": "3.10.13"
  }
 },
 "nbformat": 4,
 "nbformat_minor": 5
}
