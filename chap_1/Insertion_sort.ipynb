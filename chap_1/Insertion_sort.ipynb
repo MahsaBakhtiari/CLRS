{
 "cells": [
  {
   "cell_type": "markdown",
   "id": "534e4edc",
   "metadata": {},
   "source": [
    "# Insertion-sort (A, n)"
   ]
  },
  {
   "cell_type": "code",
   "execution_count": 11,
   "id": "b7ba226d",
   "metadata": {},
   "outputs": [],
   "source": [
    "def insertion_sort(A):\n",
    "    for i in range(len(A)):\n",
    "        key = A[i]\n",
    "        j = i - 1\n",
    "        while A[j] > key and j>-1:\n",
    "            A[j+1] = A[j]\n",
    "            j = j - 1\n",
    "        A[j+1] = key\n",
    "    return A\n",
    "    "
   ]
  },
  {
   "cell_type": "code",
   "execution_count": 12,
   "id": "f0686748",
   "metadata": {},
   "outputs": [
    {
     "data": {
      "text/plain": [
       "[3, 4, 5, 6, 7, 7, 9]"
      ]
     },
     "execution_count": 12,
     "metadata": {},
     "output_type": "execute_result"
    }
   ],
   "source": [
    "insertion_sort([6,4,7,3,5,9,7])"
   ]
  },
  {
   "cell_type": "code",
   "execution_count": null,
   "id": "9dcf9b75",
   "metadata": {},
   "outputs": [],
   "source": []
  }
 ],
 "metadata": {
  "kernelspec": {
   "display_name": "Python 3 (ipykernel)",
   "language": "python",
   "name": "python3"
  },
  "language_info": {
   "codemirror_mode": {
    "name": "ipython",
    "version": 3
   },
   "file_extension": ".py",
   "mimetype": "text/x-python",
   "name": "python",
   "nbconvert_exporter": "python",
   "pygments_lexer": "ipython3",
   "version": "3.10.13"
  }
 },
 "nbformat": 4,
 "nbformat_minor": 5
}
