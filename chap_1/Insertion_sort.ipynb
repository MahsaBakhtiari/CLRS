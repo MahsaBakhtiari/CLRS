{
 "cells": [
  {
   "cell_type": "markdown",
   "id": "534e4edc",
   "metadata": {},
   "source": [
    "# Insertion-sort (A, n)"
   ]
  },
  {
   "cell_type": "code",
   "execution_count": 3,
   "id": "b7ba226d",
   "metadata": {},
   "outputs": [],
   "source": [
    "A = [1,3,6,8,4,3]\n",
    "\n",
    "for i in range(len(A)):\n",
    "    key = A[i]\n",
    "    j = i - 1\n",
    "    while A[j] > key and j>0:\n",
    "        A[j+1] = A[j]\n",
    "        j = j - 1\n",
    "    A[j+1] = key\n",
    "    "
   ]
  },
  {
   "cell_type": "code",
   "execution_count": 4,
   "id": "f0686748",
   "metadata": {},
   "outputs": [
    {
     "data": {
      "text/plain": [
       "[1, 3, 3, 4, 6, 8]"
      ]
     },
     "execution_count": 4,
     "metadata": {},
     "output_type": "execute_result"
    }
   ],
   "source": [
    "A"
   ]
  }
 ],
 "metadata": {
  "kernelspec": {
   "display_name": "Python 3 (ipykernel)",
   "language": "python",
   "name": "python3"
  },
  "language_info": {
   "codemirror_mode": {
    "name": "ipython",
    "version": 3
   },
   "file_extension": ".py",
   "mimetype": "text/x-python",
   "name": "python",
   "nbconvert_exporter": "python",
   "pygments_lexer": "ipython3",
   "version": "3.10.13"
  }
 },
 "nbformat": 4,
 "nbformat_minor": 5
}
