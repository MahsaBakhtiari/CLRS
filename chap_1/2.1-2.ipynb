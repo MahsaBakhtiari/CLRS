{
 "cells": [
  {
   "cell_type": "markdown",
   "id": "9eb7b8d2",
   "metadata": {},
   "source": [
    "### Use sum-array initialization,  maintenance, and termination properties to show that the SUM- ARRAY procedure returns the sum of the numbers."
   ]
  },
  {
   "cell_type": "code",
   "execution_count": 11,
   "id": "4edc9d7b",
   "metadata": {},
   "outputs": [],
   "source": [
    "def sum_array(A):\n",
    "    sum_A = 0\n",
    "    for i in range(A):\n",
    "        sum_A += A[i]\n",
    "    return sum_A"
   ]
  },
  {
   "cell_type": "markdown",
   "id": "6ebf02cb",
   "metadata": {},
   "source": [
    "- $Initialization:$ It should be true befor first loop. when i = 0, sub array is A[0] and sum of an array with one number is itself and it is true."
   ]
  },
  {
   "cell_type": "markdown",
   "id": "64e9224a",
   "metadata": {},
   "source": [
    "-  $Maintenance:$ Now, I should prove that the sum_A is the sum of subarray A[0:i+1] for every I incriminating from 0 to len(A). After initialization, the first loop iterative is i = 1, so the subarray is A[0:2]. The sum_A in this step will be calculated from the sum of Sum_A and the second member of the array, which is A[0]+A[1] so it is true. In every itaration it will add the A[i] to the sum(A[0:i]) so it remain true."
   ]
  },
  {
   "cell_type": "markdown",
   "id": "4641627a",
   "metadata": {},
   "source": [
    "- $Termination$: Finally, the algorithm will terminate when I reach the length of A. "
   ]
  },
  {
   "cell_type": "code",
   "execution_count": null,
   "id": "ca1ef14c",
   "metadata": {},
   "outputs": [],
   "source": []
  }
 ],
 "metadata": {
  "kernelspec": {
   "display_name": "Python 3 (ipykernel)",
   "language": "python",
   "name": "python3"
  },
  "language_info": {
   "codemirror_mode": {
    "name": "ipython",
    "version": 3
   },
   "file_extension": ".py",
   "mimetype": "text/x-python",
   "name": "python",
   "nbconvert_exporter": "python",
   "pygments_lexer": "ipython3",
   "version": "3.10.13"
  }
 },
 "nbformat": 4,
 "nbformat_minor": 5
}
