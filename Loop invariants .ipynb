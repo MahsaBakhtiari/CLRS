{
 "cells": [
  {
   "cell_type": "markdown",
   "id": "23d319cf",
   "metadata": {},
   "source": [
    "### Loop invariants help us understand why an algorithm is correct. When you’re using a loop invariant, you need to show three things:\n",
    "\n",
    "- Initialization: It is true prior to the ûrst iteration of the loop.\n",
    "\n",
    "- Maintenance: If it is true before an iteration of the loop, it remains true before\n",
    "\n",
    "- Termination: The loop terminates, and when it terminates, the invariant --usually along with the reason that the loop terminated-- gives us a useful property that helps show that the algorithm is correct."
   ]
  },
  {
   "cell_type": "code",
   "execution_count": 3,
   "id": "133f8081",
   "metadata": {},
   "outputs": [],
   "source": [
    "def find_x(arr, target):\n",
    "    \"\"\"In this example linear itteration is the invariant\"\"\"\n",
    "    \"\"\"Index of the founded target and -1 are the  useful properties\"\"\"\n",
    "    for i in len(arr):\n",
    "        if array[i] == target:\n",
    "            print(i)\n",
    "    return(-1)"
   ]
  },
  {
   "cell_type": "code",
   "execution_count": null,
   "id": "6a0a976b",
   "metadata": {},
   "outputs": [],
   "source": []
  }
 ],
 "metadata": {
  "kernelspec": {
   "display_name": "Python 3 (ipykernel)",
   "language": "python",
   "name": "python3"
  },
  "language_info": {
   "codemirror_mode": {
    "name": "ipython",
    "version": 3
   },
   "file_extension": ".py",
   "mimetype": "text/x-python",
   "name": "python",
   "nbconvert_exporter": "python",
   "pygments_lexer": "ipython3",
   "version": "3.10.13"
  }
 },
 "nbformat": 4,
 "nbformat_minor": 5
}
